{
  "nbformat": 4,
  "nbformat_minor": 0,
  "metadata": {
    "colab": {
      "name": "Design of the height of the Column.ipynb",
      "provenance": [],
      "collapsed_sections": [],
      "authorship_tag": "ABX9TyOxBeBl9LGzUjcR6y7YjJSl",
      "include_colab_link": true
    },
    "kernelspec": {
      "name": "python3",
      "display_name": "Python 3"
    },
    "language_info": {
      "name": "python"
    }
  },
  "cells": [
    {
      "cell_type": "markdown",
      "metadata": {
        "id": "view-in-github",
        "colab_type": "text"
      },
      "source": [
        "<a href=\"https://colab.research.google.com/github/maheshmahajan133/Cooling_Load_IITG/blob/main/Design_of_the_height_of_the_Column.ipynb\" target=\"_parent\"><img src=\"https://colab.research.google.com/assets/colab-badge.svg\" alt=\"Open In Colab\"/></a>"
      ]
    },
    {
      "cell_type": "code",
      "execution_count": 37,
      "metadata": {
        "colab": {
          "base_uri": "https://localhost:8080/"
        },
        "id": "-1vMOltSna8N",
        "outputId": "c9e198f3-9535-4ed2-89a3-e78a9891477f"
      },
      "outputs": [
        {
          "name": "stdout",
          "output_type": "stream",
          "text": [
            "Enetr the inlet air temp: 35.0\n",
            "Enetr the desiccant inlet temp: 25.0\n",
            "Enetr the desiccant outlet temp: 24.0\n",
            "Enetr the inlet humiduty ratio: 0.030\n",
            "Enetr the outlet humiduty ratio: 0.0075\n",
            "Enetr the inlet concentration: 0.36\n",
            "Enetr the outlet concentration: 0.355\n",
            "Enetr the inlet air mass flow rate kg/s: 0.202\n",
            "Enetr the inlet liquid mass flow rate kg/s: 2.02\n",
            "Enetr the void fraction: 0.88\n",
            "Enetr the specific area: 690\n"
          ]
        }
      ],
      "source": [
        "import math\n",
        "import numpy as np \n",
        "#Air pressure from water vapor\n",
        "t_air_in=float(input(\"Enetr the inlet air temp: \"))\n",
        "t_des_in=float(input(\"Enetr the desiccant inlet temp: \"))\n",
        "t_des_out=float(input(\"Enetr the desiccant outlet temp: \"))\n",
        "y_in=float(input(\"Enetr the inlet humiduty ratio: \"))\n",
        "y_out=float(input(\"Enetr the outlet humiduty ratio: \"))\n",
        "x_in=float(input(\"Enetr the inlet concentration: \"))\n",
        "x_out=float(input(\"Enetr the outlet concentration: \"))\n",
        "G=float(input(\"Enetr the inlet air mass flow rate kg/s: \"))\n",
        "L=float(input(\"Enetr the inlet liquid mass flow rate kg/s: \"))\n",
        "void_fraction=float(input(\"Enetr the void fraction: \"))\n",
        "at=float(input(\"Enetr the specific area: \"))\n",
        "\n",
        "#Air Properties\n",
        "R=8314\n",
        "T=273.15+t_air_in\n",
        "den_g=10**(-5)*t_air_in**2-0.0044*t_air_in+1.2877                     #Kg/m3\n",
        "visco_g=(-9*pow(10,-8)*t_air_in**2+0.0002*t_air_in+0.0623)/3600                  #Pa.s\n",
        "Dg=diffu_g=(5*pow(10,-7)*t_air_in**2+0.0005*t_air_in+0.0684)/3600              #m2/s\n",
        "Ka=-3*10**(-8)*t_air_in**2+8*10**(-5)*t_air_in+0.0244    #In W/m.k with celci of air\n"
      ]
    },
    {
      "cell_type": "code",
      "source": [
        "#air pressure at bot and top position relative to humidity\n",
        "P_v_sat=610.78*(math.exp((17.2693882*((t_air_in+273.15-273.16))/((t_air_in+273.15)-35.86))))\n",
        "P_V_unsat_in=101325*y_in/(y_in+0.622)\n",
        "P_V_unsat_out=101325*y_out/(y_out+0.622)\n",
        "RH_in=P_V_unsat_in/P_v_sat\n",
        "RH_out=P_V_unsat_out/P_v_sat"
      ],
      "metadata": {
        "id": "PPV-dYOKr808"
      },
      "execution_count": 38,
      "outputs": []
    },
    {
      "cell_type": "code",
      "source": [
        "#To calculate the mole fraction for inlet\n",
        "n_in_h2O=y_in/18\n",
        "n_in_air=(1-y_in)/29\n",
        "X_in=n_in_h2O/(n_in_h2O+n_in_air)\n",
        "\n",
        "#To calculate the mole fraction for inlet\n",
        "n_out_h2O=y_out/18\n",
        "n_out_air=(1-y_out)/29\n",
        "X_out=n_out_h2O/(n_out_h2O+n_out_air)\n",
        "\n",
        "# Total mole fraction difference\n",
        "Del_y=X_in-X_out"
      ],
      "metadata": {
        "id": "q8SiUWQKncD7"
      },
      "execution_count": 39,
      "outputs": []
    },
    {
      "cell_type": "code",
      "source": [
        "#pressure difference at the bottom\n",
        "# 1) Desiccant pressure at the bottom\n",
        "T=273.15+t_des_out\n",
        "z=T/647.096\n",
        "Z1=np.exp((1/z)*(-7.85951783*(1-z)+1.84408259*(1-z)**1.5-11.7866497*(1-z)**3+22.6807411*(1-z)**3.5-15.9618719*(1-z)**4+1.86122502*(1-z)**7.5))\n",
        "ps_water_temp_bottom=22064*Z1*1000  #in pa water saturation pressure\n",
        "z0=0.28\n",
        "z1=4.30\n",
        "z2=0.60\n",
        "z3=0.21\n",
        "z4=5.10\n",
        "z5=0.49\n",
        "z6=0.362\n",
        "z7=-4.75\n",
        "z8=-0.40\n",
        "z9=0.03\n",
        "M=2-(1+(x_out/z0)**z1)**z2\n",
        "N=(1+(x_out/z3)**z4)**z5-1\n",
        "z10=M+N*z\n",
        "z11=1-(1+(x_out/z6)**z7)**z8-z9*np.exp((x_out-0.1)**2/(-0.005))\n",
        "pressure_solution_conc_temp_bottom=z10*z11*ps_water_temp_bottom      #pa\n",
        "\n",
        "#2) To calculate the pressure at the air at bottom \n",
        "P_V_unsat_in_bottom=101325*y_in/(y_in+0.622)\n",
        "\n",
        "#3) Pressure difference at the bottom\n",
        "del_p_bottom=P_V_unsat_in_bottom-pressure_solution_conc_temp_bottom"
      ],
      "metadata": {
        "id": "cktaDff8ncGR"
      },
      "execution_count": 40,
      "outputs": []
    },
    {
      "cell_type": "code",
      "source": [
        "#pressure difference at the top\n",
        "# 1) Desiccant pressure at the top\n",
        "T=273.15+t_des_in\n",
        "z=T/647.096\n",
        "Z1=np.exp((1/z)*(-7.85951783*(1-z)+1.84408259*(1-z)**1.5-11.7866497*(1-z)**3+22.6807411*(1-z)**3.5-15.9618719*(1-z)**4+1.86122502*(1-z)**7.5))\n",
        "ps_water_temp_top=22064*Z1*1000  #in pa water saturation pressure\n",
        "z0=0.28\n",
        "z1=4.30\n",
        "z2=0.60\n",
        "z3=0.21\n",
        "z4=5.10\n",
        "z5=0.49\n",
        "z6=0.362\n",
        "z7=-4.75\n",
        "z8=-0.40\n",
        "z9=0.03\n",
        "M=2-(1+(x_in/z0)**z1)**z2\n",
        "N=(1+(x_in/z3)**z4)**z5-1\n",
        "z10=M+N*z\n",
        "z11=1-(1+(x_in/z6)**z7)**z8-z9*np.exp((x_in-0.1)**2/(-0.005))\n",
        "pressure_solution_conc_temp_top=z10*z11*ps_water_temp_top      #pa\n",
        "\n",
        "#2) To calculate the pressure at the air at top\n",
        "P_V_unsat_out_top=101325*y_out/(y_out+0.622)\n",
        "\n",
        "#3) Pressure difference at the top\n",
        "del_p_top=P_V_unsat_out_top-pressure_solution_conc_temp_top\n"
      ],
      "metadata": {
        "id": "12R_IcwKncIy"
      },
      "execution_count": 41,
      "outputs": []
    },
    {
      "cell_type": "code",
      "source": [
        "#To calculate the log mean pressure difference\n",
        "LMPD_atm=((del_p_top-del_p_bottom)/math.log(del_p_top/del_p_bottom))/101325\n",
        "# To calculate the no of transfer units\n",
        "P=1.0\n",
        "NO_G=P*Del_y/LMPD_atm"
      ],
      "metadata": {
        "id": "HTeIBllMncLj"
      },
      "execution_count": 42,
      "outputs": []
    },
    {
      "cell_type": "code",
      "source": [
        "#Al farayadhi \n",
        "import math\n",
        "sin_thetha=0.866\n",
        "h_tot=0.09\n",
        "A=0.3*0.3\n",
        "U_LE=L/((1123*A)*(void_fraction*h_tot*sin_thetha))\n",
        "U_GE=G/((A*den_g)*void_fraction*(1-h_tot)*sin_thetha)\n",
        "FgA=0.55*(U_LE)**0.1*U_GE**0.79*math.exp(-0.0293*t_air_in)\n",
        "FLA=8.2*U_LE**0.4*U_GE**0.07*(math.exp(-0.038*t_des_in))*(math.exp(0.009*x_in))"
      ],
      "metadata": {
        "id": "C-2VK7xxni17"
      },
      "execution_count": 43,
      "outputs": []
    },
    {
      "cell_type": "code",
      "source": [
        "#To calculate the heat transfer equivalent height\n",
        "A=1\n",
        "KgA=FgA*3600/(P*0.4536*3.28**3)\n",
        "G_M=G*3600/(0.4536*29)\n",
        "HG=G_M/(A*KgA*P)\n",
        "\n",
        "# To calculate the Liquid side heat transfer equi height\n",
        "KLA=FLA*3600/(0.4536*3.28**3)\n",
        "M_equi=(1-x_in)*18+x_in*42.394\n",
        "L_M=L*3600/(0.4536*M_equi)\n",
        "HL=L_M/(A*KLA)\n",
        "\n",
        "#To calculate the slope\n",
        "M_slope=1\n",
        "Lambda_slope=M_slope*G_M/L_M\n",
        "\n",
        "# To calculate The HO_G\n",
        "HO_G=HG+Lambda_slope*HL\n",
        "\n",
        "# To calculate the total height of the packing\n",
        "Z_height=HO_G*NO_G\n",
        "print(\"The height of the column is (ft) : \",Z_height)"
      ],
      "metadata": {
        "colab": {
          "base_uri": "https://localhost:8080/"
        },
        "id": "MX0gsRX4ni4i",
        "outputId": "394d5127-f0b3-43df-88a2-22f3355b6fb0"
      },
      "execution_count": 44,
      "outputs": [
        {
          "output_type": "stream",
          "name": "stdout",
          "text": [
            "The height of the column is (ft) :  1.8091405899284885\n"
          ]
        }
      ]
    }
  ]
}