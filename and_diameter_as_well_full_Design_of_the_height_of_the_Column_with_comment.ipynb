{
  "nbformat": 4,
  "nbformat_minor": 0,
  "metadata": {
    "colab": {
      "name": " and diameter as well full Design of the height of the Column with comment.ipynb",
      "provenance": [],
      "collapsed_sections": [],
      "authorship_tag": "ABX9TyP1M17Ig3Yve4Y7UO1V/pTU",
      "include_colab_link": true
    },
    "kernelspec": {
      "name": "python3",
      "display_name": "Python 3"
    },
    "language_info": {
      "name": "python"
    }
  },
  "cells": [
    {
      "cell_type": "markdown",
      "metadata": {
        "id": "view-in-github",
        "colab_type": "text"
      },
      "source": [
        "<a href=\"https://colab.research.google.com/github/maheshmahajan133/Cooling_Load_IITG/blob/main/and_diameter_as_well_full_Design_of_the_height_of_the_Column_with_comment.ipynb\" target=\"_parent\"><img src=\"https://colab.research.google.com/assets/colab-badge.svg\" alt=\"Open In Colab\"/></a>"
      ]
    },
    {
      "cell_type": "code",
      "execution_count": 886,
      "metadata": {
        "colab": {
          "base_uri": "https://localhost:8080/"
        },
        "id": "-1vMOltSna8N",
        "outputId": "6e1e7ae1-01b4-4251-aad2-4b54f438c192"
      },
      "outputs": [
        {
          "name": "stdout",
          "output_type": "stream",
          "text": [
            "Enetr the inlet air mass flow rate kg/s: 0.2\n",
            "Enetr the inlet liquid mass flow rate kg/s: 0.9\n"
          ]
        }
      ],
      "source": [
        "import math\n",
        "import numpy as np \n",
        "#Air pressure from water vapor\n",
        "#t_air_in=float(input(\"Enetr the inlet air temp: \"))\n",
        "#t_des_in=float(input(\"Enetr the desiccant inlet temp: \"))\n",
        "#t_des_out=float(input(\"Enetr the desiccant outlet temp: \"))\n",
        "#y_in=float(input(\"Enetr the inlet humiduty ratio: \"))\n",
        "#y_out=float(input(\"Enetr the outlet humiduty ratio: \"))\n",
        "#x_in=float(input(\"Enetr the inlet concentration: \"))\n",
        "#x_out=float(input(\"Enetr the outlet concentration: \"))\n",
        "G=float(input(\"Enetr the inlet air mass flow rate kg/s: \"))\n",
        "L=float(input(\"Enetr the inlet liquid mass flow rate kg/s: \"))\n",
        "#void_fraction=float(input(\"Enetr the void fraction: \"))\n",
        "#at=float(input(\"Enetr the specific area: \"))\n",
        "#S_side=float(input(\"Enetr the channel side in m: \"))\n",
        "#B_side=float(input(\"Enetr the channel base in m: \"))\n",
        "#H_side=float(input(\"Enetr the channel height in m: \"))\n",
        "#Thetha_sin=float(input(\"Enetr the angle of corrugation in degrees: \"))\n",
        "\n",
        "t_air_in=35.0\n",
        "t_des_in=25.0\n",
        "t_des_out=24.0\n",
        "y_in=0.030\n",
        "y_out=0.0075\n",
        "x_in=0.36\n",
        "x_out=0.355\n",
        "\n",
        "void_fraction=0.88\n",
        "at=690.0\n",
        "S_side=0.0077\n",
        "B_side=0.0011\n",
        "H_side=0.0067\n",
        "Thetha_sin=60.0\n",
        "Den_water=1000\n",
        "\n",
        "#Air Properties\n",
        "R=8314\n",
        "T=273.15+t_air_in\n",
        "den_g=10**(-5)*t_air_in**2-0.0044*t_air_in+1.2877                     #Kg/m3\n",
        "visco_g=(-9*pow(10,-8)*t_air_in**2+0.0002*t_air_in+0.0623)/3600                  #Pa.s\n",
        "Dg=diffu_g=(5*pow(10,-7)*t_air_in**2+0.0005*t_air_in+0.0684)/3600              #m2/s\n",
        "Ka=-3*10**(-8)*t_air_in**2+8*10**(-5)*t_air_in+0.0244    #In W/m.k with celci of air\n"
      ]
    },
    {
      "cell_type": "code",
      "source": [
        "#air pressure at bot and top position relative to humidity\n",
        "P_v_sat=610.78*(math.exp((17.2693882*((t_air_in+273.15-273.16))/((t_air_in+273.15)-35.86)))) #sat vapor pressure\n",
        "P_V_unsat_in=101325*y_in/(y_in+0.622)   #value of water vapor pressure at inlet conditions unsat\n",
        "P_V_unsat_out=101325*y_out/(y_out+0.622)\n",
        "RH_in=P_V_unsat_in/P_v_sat  #relative humidity cal\n",
        "RH_out=P_V_unsat_out/P_v_sat"
      ],
      "metadata": {
        "id": "PPV-dYOKr808"
      },
      "execution_count": 887,
      "outputs": []
    },
    {
      "cell_type": "code",
      "source": [
        "#To calculate the mole fraction for inlet\n",
        "n_in_h2O=y_in/18         #Calculations of no of moles of water vapor\n",
        "n_in_air=(1-y_in)/29      #Calculations of no of moles air\n",
        "X_in=n_in_h2O/(n_in_h2O+n_in_air) #Calculations of mole fraction at inlet for water vapor\n",
        "\n",
        "#To calculate the mole fraction for inlet\n",
        "n_out_h2O=y_out/18\n",
        "n_out_air=(1-y_out)/29\n",
        "X_out=n_out_h2O/(n_out_h2O+n_out_air) #Calculations of mole fraction at outlet for water vapor\n",
        "\n",
        "# Total mole fraction difference\n",
        "Del_y=X_in-X_out        #difference in mole fraction"
      ],
      "metadata": {
        "id": "q8SiUWQKncD7"
      },
      "execution_count": 888,
      "outputs": []
    },
    {
      "cell_type": "code",
      "source": [
        "#pressure difference at the bottom\n",
        "# 1) Desiccant pressure at the bottom\n",
        "T=273.15+t_des_out\n",
        "z=T/647.096\n",
        "Z1=np.exp((1/z)*(-7.85951783*(1-z)+1.84408259*(1-z)**1.5-11.7866497*(1-z)**3+22.6807411*(1-z)**3.5-15.9618719*(1-z)**4+1.86122502*(1-z)**7.5))\n",
        "ps_water_temp_bottom=22064*Z1*1000  #in pa water saturation pressure\n",
        "z0=0.28\n",
        "z1=4.30\n",
        "z2=0.60\n",
        "z3=0.21\n",
        "z4=5.10\n",
        "z5=0.49\n",
        "z6=0.362\n",
        "z7=-4.75\n",
        "z8=-0.40\n",
        "z9=0.03\n",
        "M=2-(1+(x_out/z0)**z1)**z2\n",
        "N=(1+(x_out/z3)**z4)**z5-1\n",
        "z10=M+N*z\n",
        "z11=1-(1+(x_out/z6)**z7)**z8-z9*np.exp((x_out-0.1)**2/(-0.005))\n",
        "pressure_solution_conc_temp_bottom=z10*z11*ps_water_temp_bottom      #pa\n",
        "\n",
        "#2) To calculate the pressure at the air at bottom \n",
        "P_V_unsat_in_bottom=101325*y_in/(y_in+0.622)\n",
        "\n",
        "#3) Pressure difference at the bottom\n",
        "del_p_bottom=P_V_unsat_in_bottom-pressure_solution_conc_temp_bottom"
      ],
      "metadata": {
        "id": "cktaDff8ncGR"
      },
      "execution_count": 889,
      "outputs": []
    },
    {
      "cell_type": "code",
      "source": [
        "#pressure difference at the top\n",
        "# 1) Desiccant pressure at the top\n",
        "T=273.15+t_des_in\n",
        "z=T/647.096\n",
        "Z1=np.exp((1/z)*(-7.85951783*(1-z)+1.84408259*(1-z)**1.5-11.7866497*(1-z)**3+22.6807411*(1-z)**3.5-15.9618719*(1-z)**4+1.86122502*(1-z)**7.5))\n",
        "ps_water_temp_top=22064*Z1*1000  #in pa water saturation pressure\n",
        "z0=0.28\n",
        "z1=4.30\n",
        "z2=0.60\n",
        "z3=0.21\n",
        "z4=5.10\n",
        "z5=0.49\n",
        "z6=0.362\n",
        "z7=-4.75\n",
        "z8=-0.40\n",
        "z9=0.03\n",
        "M=2-(1+(x_in/z0)**z1)**z2\n",
        "N=(1+(x_in/z3)**z4)**z5-1\n",
        "z10=M+N*z\n",
        "z11=1-(1+(x_in/z6)**z7)**z8-z9*np.exp((x_in-0.1)**2/(-0.005))\n",
        "pressure_solution_conc_temp_top=z10*z11*ps_water_temp_top      #pa\n",
        "\n",
        "#2) To calculate the pressure at the air at top\n",
        "P_V_unsat_out_top=101325*y_out/(y_out+0.622)\n",
        "\n",
        "#3) Pressure difference at the top\n",
        "del_p_top=P_V_unsat_out_top-pressure_solution_conc_temp_top\n"
      ],
      "metadata": {
        "id": "12R_IcwKncIy"
      },
      "execution_count": 890,
      "outputs": []
    },
    {
      "cell_type": "code",
      "source": [
        "#To calculate the log mean pressure difference\n",
        "LMPD_atm=((del_p_top-del_p_bottom)/math.log(del_p_top/del_p_bottom))/101325\n",
        "\n",
        "# To calculate the no of transfer units\n",
        "P=1.0   # pressure in atm\n",
        "NO_G=P*Del_y/LMPD_atm   \n",
        "print(\"the no of transfer units: \",NO_G)"
      ],
      "metadata": {
        "id": "HTeIBllMncLj",
        "colab": {
          "base_uri": "https://localhost:8080/"
        },
        "outputId": "6a0ca1a0-ea02-4d45-a4a7-e0c5b19a88b0"
      },
      "execution_count": 891,
      "outputs": [
        {
          "output_type": "stream",
          "name": "stdout",
          "text": [
            "the no of transfer units:  2.450077713949318\n"
          ]
        }
      ]
    },
    {
      "cell_type": "code",
      "source": [
        "#properties of the Desiccant solution\n",
        "\n",
        "#To calculate the surface tension of solution\n",
        "surface_tension_0water=0.2358  # N/m\n",
        "zeta= -0.625\n",
        "mu= 1.256\n",
        "theta2=((t_des_in+273.15)/647.3)\n",
        "surface_tension_water=surface_tension_0water*(1-zeta*(1-theta2))*((1-theta2)**mu)\n",
        "b1=2.757115\n",
        "b2=-12.011299\n",
        "b3=14.751818\n",
        "b4=2.443204\n",
        "b5=-3.147739\n",
        "surface_tension_solution= surface_tension_water * (1+(b1*x_in)+(b2*theta2*x_in)+(b3*x_in*theta2**2)+(b4*x_in**2)+(b5*x_in**3))  #N/m\n",
        "\n",
        "#To calculate the viscosity of the solution\n",
        "#dynamic density of licl\n",
        "c1=1.0261862\n",
        "c2=12481.702\n",
        "c3=-19510.923\n",
        "c4=7065.286\n",
        "c5=-395.561\n",
        "c6=143922.996\n",
        "visco_water_0celci=0.001793 # Pa.second\n",
        "thetha_visco=(t_des_in/228)-1\n",
        "visco_water_temp=(2*10**-11*t_des_in**4-6*10**-9*t_des_in**3+7*10**-7*t_des_in**2-5*10**-5*t_des_in+0.0017)      # Pa.s\n",
        "d1=0.090481\n",
        "d2=1.390262\n",
        "d3=0.675875\n",
        "d4=-0.583517\n",
        "falta=(x_in/(1-x_in)**(1/0.6))\n",
        "visco_solu= visco_water_temp * (math.exp((d1*falta**3.6+d2*falta+d3*(falta/thetha_visco)+d4*falta**2)))      #Pa.s\n",
        "\n",
        "#To calculate the density of LiCl solution\n",
        "c1=1.9937718430\n",
        "c2=1.0985211604\n",
        "c3=-0.5094492996\n",
        "c4=-1.7619124270\n",
        "c5=-44.9005480267\n",
        "c6=-723692.2618632\n",
        "thetha3=(t_des_in+273.15)/647.3\n",
        "tau=1-thetha3\n",
        "y=(x_in/(1-x_in))\n",
        "critical_density_of_water=322   # kg/m3\n",
        "density_of_water=round(critical_density_of_water*(1+c1*tau**(1/3)+c2*tau**(2/3)+c3*tau**(5/3)+c4*tau**(16/3)+c5*tau**(43/3)+c6*tau**(110/3)),4)\n",
        "f1=1.0\n",
        "f2=0.540966\n",
        "f3=-0.303792\n",
        "f4=0.100791\n",
        "density_of_solution=round(density_of_water*(f1+f2*y**2+f3*y**3+f4*y**4),4) #Kg/m3"
      ],
      "metadata": {
        "id": "q2tjkc8LxCAT"
      },
      "execution_count": 892,
      "outputs": []
    },
    {
      "cell_type": "code",
      "source": [
        "import math\n",
        "sin_thetha=math.sin(Thetha_sin*(math.pi)/180) #Currugation angle\n",
        "A=0.3*0.3   #Crosssection of the packing\n",
        "g_e=9.81\n",
        "if surface_tension_solution<0.055:\n",
        "  cos_gamma=0.9\n",
        "else:\n",
        "  cos_gamma=5.211*10**(-16.835*surface_tension_solution)\n",
        "U_L=L/(density_of_solution*A)    #liquid superficial velocity\n",
        "We_L=U_L**2*density_of_solution*S_side/surface_tension_solution #Weber no\n",
        "Fr_L=U_L**2/(S_side*g_e)    #Froude no\n",
        "Re_L=U_L*S_side*density_of_solution/visco_solu #Reynolds no\n",
        "C_tot=29.12*(We_L*Fr_L)**0.15*S_side**0.359/(Re_L**0.2*void_fraction**0.6*(1-0.93*cos_gamma)*sin_thetha**0.3)\n",
        "h_tot=(4*C_tot/S_side)**(2/3)*(3*visco_solu*U_L/(density_of_solution*void_fraction*sin_thetha*g_e))**(1/3) #Total Liquid holdup in fraction\n",
        "\n",
        "#Effective Velocity of fluids\n",
        "U_LE=L/((1123*A)*(void_fraction*h_tot*sin_thetha))\n",
        "U_GE=G/((A*den_g)*void_fraction*(1-h_tot)*sin_thetha)"
      ],
      "metadata": {
        "id": "qbFq-C_jwN-s"
      },
      "execution_count": 893,
      "outputs": []
    },
    {
      "cell_type": "code",
      "source": [
        "#Al farayadhi equations \n",
        "FgA=0.55*(U_LE)**0.1*U_GE**0.79*math.exp(-0.0293*t_air_in) #Gas side mass transfer coeffcient\n",
        "FLA=8.2*U_LE**0.4*U_GE**0.07*(math.exp(-0.038*t_des_in))*(math.exp(0.009*x_in)) #liquid side mass transfer coeffcient"
      ],
      "metadata": {
        "id": "C-2VK7xxni17"
      },
      "execution_count": 894,
      "outputs": []
    },
    {
      "cell_type": "code",
      "source": [
        "#To calculate the heat transfer equivalent height\n",
        "A_brit=1 #Cross sectional area in Ft2\n",
        "KgA=FgA*3600/(P*0.4536*3.28**3)   # to convert the F type mass transfer to K type to british units \n",
        "G_M=G*3600/(0.4536*29) #Molar flow of the gas\n",
        "HG=G_M/(A_brit*KgA*P)\n",
        "\n",
        "# To calculate the Liquid side heat transfer equi height\n",
        "KLA=FLA*3600/(0.4536*3.28**3) # to convert the F type mass transfer to K type to british units\n",
        "M_equi=(1-x_in)*18+x_in*42.394 # molar mass of the desiccant solution\n",
        "L_M=L*3600/(0.4536*M_equi)  #Molar flow of the liquid\n",
        "HL=L_M/(A_brit*KLA)\n",
        "\n",
        "#To calculate the slope\n",
        "M_slope=1 #Considered both oerating and equilibrium lines are nearly parallel and straight\n",
        "Lambda_slope=M_slope*G_M/L_M  \n",
        "\n",
        "# To calculate The HO_G\n",
        "HO_G=HG+Lambda_slope*HL\n",
        "print(\"The heat transfer equi height of the  column is (ft) : \",HO_G)\n",
        "# To calculate the total height of the packing\n",
        "Z_height=HO_G*NO_G\n",
        "print(\"The height of the column is (ft) : \",Z_height)"
      ],
      "metadata": {
        "colab": {
          "base_uri": "https://localhost:8080/"
        },
        "id": "MX0gsRX4ni4i",
        "outputId": "78f93d71-51c6-4a40-add5-4ec7e98de833"
      },
      "execution_count": 895,
      "outputs": [
        {
          "output_type": "stream",
          "name": "stdout",
          "text": [
            "The heat transfer equi height of the  column is (ft) :  0.7792422083228961\n",
            "The height of the column is (ft) :  1.9092039683805797\n"
          ]
        }
      ]
    },
    {
      "cell_type": "code",
      "source": [
        "#To calculate the area based on this height in british units\n",
        "density_of_solution_brit=density_of_solution*0.062428\n",
        "den_g_brit=den_g*0.062428\n",
        "Den_water_brit=0.062428*Den_water\n",
        "g_c=4.18*10**8                     #Acceleration due to gravity\n",
        "visco_solu_brit=visco_solu*1000   #centi Poise\n",
        "F_P=at/(void_fraction**3*3.28)     #per feet\n",
        "\n",
        "#To calculate the flow parameter and capacity parameter\n",
        "F_LV=(L_M/G_M)*(den_g_brit/density_of_solution_brit)**0.5\n",
        "log_Y_FL=-0.296*(math.log10(F_LV))**2-1.08*math.log10(F_LV)-1.668\n",
        "Y_FL=10**log_Y_FL\n",
        "G_theo_FL=(Y_FL*den_g_brit*density_of_solution_brit*g_c/(F_P*(Den_water_brit/density_of_solution_brit)*visco_solu_brit**0.2))**0.5\n",
        "\n",
        "# Generally for safety against the flooding we operate the packing below the 70% of flooding flow rate\n",
        "#G_theo_FL_flood_compen=G_theo_FL*0.7   # lb/ft2.h\n",
        "\n",
        "#to calcualte the max available gas flow rate for 0.202 kg/s\n",
        "G_act_avai_blower=G*3600/0.4536   # lb/h\n",
        "\n",
        "# To calculate the area required\n",
        "area_act=G_act_avai_blower/G_theo_FL  #ft2\n",
        "\n",
        "print(\"The actual requiered area will be(ft2): \",area_act)\n"
      ],
      "metadata": {
        "colab": {
          "base_uri": "https://localhost:8080/"
        },
        "id": "X076V827zVl3",
        "outputId": "62de71d5-e55e-4953-bff3-bc5f4ae167bc"
      },
      "execution_count": 896,
      "outputs": [
        {
          "output_type": "stream",
          "name": "stdout",
          "text": [
            "The actual requiered area will be(ft2):  1.784317491802181\n"
          ]
        }
      ]
    },
    {
      "cell_type": "code",
      "source": [
        "#to calculate the diameter form another formula\n",
        "dynamic_visco=visco_solu_brit/density_of_solution_brit\n",
        "Y_FL=0.7\n",
        "C_s=Y_FL/(F_P**0.5*(visco_solu_brit**0.05))\n",
        "\n",
        "U_SG=C_s*((den_g_brit/(density_of_solution_brit-den_g_brit)))**(-0.5)\n",
        "\n",
        "#0.202 kg/s flow rate of air \n",
        "Volumetric_flow_G=G/(0.4536*den_g_brit)\n",
        "Area_2=Volumetric_flow_G/U_SG\n"
      ],
      "metadata": {
        "id": "O1l3RjwYzVon"
      },
      "execution_count": 897,
      "outputs": []
    },
    {
      "cell_type": "code",
      "source": [
        "surface_tension_solution_brit=surface_tension_solution*1000\n",
        "C_s=U_GE*(den_g_brit/(density_of_solution_brit-den_g_brit))**0.5\n",
        "C_s_corrected=C_s*(surface_tension_solution_brit/20)**0.16*(visco_solu_brit/0.2)**(-0.11)\n",
        "Y_FL=C_s_corrected*F_P**0.5*visco_solu_brit**0.05"
      ],
      "metadata": {
        "id": "LA7_qQRDzVrQ"
      },
      "execution_count": 898,
      "outputs": []
    },
    {
      "cell_type": "code",
      "source": [
        "#to calculate the diameter form another formula\n",
        "dynamic_visco=visco_solu_brit/density_of_solution_brit\n",
        "C_s=Y_FL/(F_P**0.5*(visco_solu_brit**0.05))\n",
        "\n",
        "U_SG=C_s*((den_g_brit/(density_of_solution_brit-den_g_brit)))**(-0.5)\n",
        "\n",
        "#0.202 kg/s flow rate of air \n",
        "Volumetric_flow_G=G/(0.4536*den_g_brit)\n",
        "Area_2=Volumetric_flow_G/U_SG\n",
        "print(\"The actual requiered area will be 2 (ft2): \",Area_2)"
      ],
      "metadata": {
        "colab": {
          "base_uri": "https://localhost:8080/"
        },
        "id": "ArP1UjDbPKvy",
        "outputId": "6e828ff7-0612-477b-f9c4-bb9922ec5c70"
      },
      "execution_count": 899,
      "outputs": [
        {
          "output_type": "stream",
          "name": "stdout",
          "text": [
            "The actual requiered area will be 2 (ft2):  1.913186604932119\n"
          ]
        }
      ]
    },
    {
      "cell_type": "code",
      "source": [
        "0.4#Lets consider the area to be 2.0 ft2\n",
        "import math\n",
        "sin_thetha=math.sin(Thetha_sin*(math.pi)/180) #Currugation angle\n",
        "A=2/(3.28**2)   #Crosssection of the packing\n",
        "g_e=9.81\n",
        "if surface_tension_solution<0.055:\n",
        "  cos_gamma=0.9\n",
        "else:\n",
        "  cos_gamma=5.211*10**(-16.835*surface_tension_solution)\n",
        "U_L=L/(density_of_solution*A)    #liquid superficial velocity\n",
        "We_L=U_L**2*density_of_solution*S_side/surface_tension_solution #Weber no\n",
        "Fr_L=U_L**2/(S_side*g_e)    #Froude no\n",
        "Re_L=U_L*S_side*density_of_solution/visco_solu #Reynolds no\n",
        "C_tot=29.12*(We_L*Fr_L)**0.15*S_side**0.359/(Re_L**0.2*void_fraction**0.6*(1-0.93*cos_gamma)*sin_thetha**0.3)\n",
        "h_tot=(4*C_tot/S_side)**(2/3)*(3*visco_solu*U_L/(density_of_solution*void_fraction*sin_thetha*g_e))**(1/3) #Total Liquid holdup in fraction\n",
        "\n",
        "#Effective Velocity of fluids\n",
        "U_LE=L/((1123*A)*(void_fraction*h_tot*sin_thetha))\n",
        "U_GE=G/((A*den_g)*void_fraction*(1-h_tot)*sin_thetha)\n",
        "\n",
        "#Al farayadhi equations \n",
        "FgA=0.55*(U_LE)**0.1*U_GE**0.79*math.exp(-0.0293*t_air_in) #Gas side mass transfer coeffcient\n",
        "FLA=8.2*U_LE**0.4*U_GE**0.07*(math.exp(-0.038*t_des_in))*(math.exp(0.009*x_in)) #liquid side mass transfer coeffcient\n",
        "\n",
        "#To calculate the heat transfer equivalent height\n",
        "A_brit=2 #Cross sectional area in Ft2\n",
        "KgA=FgA*3600/(P*0.4536*3.28**3)   # to convert the F type mass transfer to K type to british units \n",
        "G_M=G*3600/(0.4536*29) #Molar flow of the gas\n",
        "HG=G_M/(A_brit*KgA*P)\n",
        "\n",
        "# To calculate the Liquid side heat transfer equi height\n",
        "KLA=FLA*3600/(0.4536*3.28**3) # to convert the F type mass transfer to K type to british units\n",
        "M_equi=(1-x_in)*18+x_in*42.394 # molar mass of the desiccant solution\n",
        "L_M=L*3600/(0.4536*M_equi)  #Molar flow of the liquid\n",
        "HL=L_M/(A_brit*KLA)\n",
        "\n",
        "#To calculate the slope\n",
        "M_slope=1 #Considered both oerating and equilibrium lines are nearly parallel and straight\n",
        "Lambda_slope=M_slope*G_M/L_M  \n",
        "\n",
        "# To calculate The HO_G\n",
        "HO_G=HG+Lambda_slope*HL\n",
        "#print(\"The heat transfer equi height of the  column is (ft) : \",HO_G)\n",
        "# To calculate the total height of the packing\n",
        "Z_height=HO_G*NO_G\n",
        "print(\"The height of the column is (ft) : \",Z_height)\n",
        "\n",
        "#To calculate the area based on this height in british units\n",
        "density_of_solution_brit=density_of_solution*0.062428\n",
        "den_g_brit=den_g*0.062428\n",
        "Den_water_brit=0.062428*Den_water\n",
        "g_c=4.18*10**8                     #Acceleration due to gravity\n",
        "visco_solu_brit=visco_solu*1000   #centi Poise\n",
        "F_P=at/(void_fraction**3*3.28)     #per feet\n",
        "\n",
        "#To calculate the flow parameter and capacity parameter\n",
        "F_LV=(L_M/G_M)*(den_g_brit/density_of_solution_brit)**0.5\n",
        "log_Y_FL=-0.296*(math.log10(F_LV))**2-1.08*math.log10(F_LV)-1.668\n",
        "Y_FL=10**log_Y_FL\n",
        "G_theo_FL=(Y_FL*den_g_brit*density_of_solution_brit*g_c/(F_P*(Den_water_brit/density_of_solution_brit)*visco_solu_brit**0.2))**0.5\n",
        "\n",
        "# Generally for safety against the flooding we operate the packing below the 70% of flooding flow rate\n",
        "#G_theo_FL_flood_compen=G_theo_FL*0.7   # lb/ft2.h\n",
        "\n",
        "#to calcualte the max available gas flow rate for 0.202 kg/s\n",
        "G_act_avai_blower=G*3600/0.4536   # lb/h\n",
        "\n",
        "# To calculate the area required\n",
        "area_act=G_act_avai_blower/G_theo_FL  #ft2\n",
        "\n",
        "print(\"The actual requiered area will be(ft2): \",area_act)\n",
        "print(\"The actual requiered size of side square will be(ft2): \",area_act**0.5)\n",
        "\n",
        "\n"
      ],
      "metadata": {
        "colab": {
          "base_uri": "https://localhost:8080/"
        },
        "id": "Ou41udOv3UjJ",
        "outputId": "a54b453f-a06f-4475-c0c3-b87aca1a1407"
      },
      "execution_count": 900,
      "outputs": [
        {
          "output_type": "stream",
          "name": "stdout",
          "text": [
            "The height of the column is (ft) :  1.6645855506217195\n",
            "The actual requiered area will be(ft2):  1.784317491802181\n",
            "The actual requiered size of side square will be(ft2):  1.3357834748948576\n"
          ]
        }
      ]
    },
    {
      "cell_type": "code",
      "source": [
        "#to calculate the diameter form another formula\n",
        "dynamic_visco=visco_solu_brit/density_of_solution_brit\n",
        "Y_FL=0.7\n",
        "C_s=Y_FL/(F_P**0.5*(visco_solu_brit**0.05))\n",
        "\n",
        "U_SG=C_s*((den_g_brit/(density_of_solution_brit-den_g_brit)))**(-0.5)\n",
        "\n",
        "#0.202 kg/s flow rate of air \n",
        "Volumetric_flow_G=G/(0.4536*den_g_brit)\n",
        "Area_2=Volumetric_flow_G/U_SG\n",
        "\n",
        "surface_tension_solution_brit=surface_tension_solution*1000\n",
        "C_s=U_GE*(den_g_brit/(density_of_solution_brit-den_g_brit))**0.5\n",
        "C_s_corrected=C_s*(surface_tension_solution_brit/20)**0.16*(visco_solu_brit/0.2)**(-0.11)\n",
        "Y_FL=C_s_corrected*F_P**0.5*visco_solu_brit**0.05\n",
        "\n",
        "#to calculate the diameter form another formula\n",
        "dynamic_visco=visco_solu_brit/density_of_solution_brit\n",
        "C_s=Y_FL/(F_P**0.5*(visco_solu_brit**0.05))\n",
        "\n",
        "U_SG=C_s*((den_g_brit/(density_of_solution_brit-den_g_brit)))**(-0.5)"
      ],
      "metadata": {
        "id": "P87PLlJmPjG4"
      },
      "execution_count": null,
      "outputs": []
    }
  ]
}